{
 "cells": [
  {
   "cell_type": "markdown",
   "id": "e6c94e19",
   "metadata": {},
   "source": [
    "# Jupyter Notebook Example"
   ]
  },
  {
   "cell_type": "markdown",
   "id": "acdaa8a7",
   "metadata": {},
   "source": [
    "## Get data from web\n",
    "\n",
    "The following is a tiny program to download text from the web.\n"
   ]
  },
  {
   "cell_type": "code",
   "execution_count": null,
   "id": "615dd78b",
   "metadata": {},
   "outputs": [],
   "source": [
    "# A tiny program to download text from the web.\n",
    "def read_url(url):\n",
    "    from urllib.request import urlopen\n",
    "    import re\n",
    "\n",
    "    return re.sub(\"\\\\s+\", \" \", urlopen(url).read().decode())\n"
   ]
  },
  {
   "cell_type": "code",
   "execution_count": null,
   "id": "96cfa066",
   "metadata": {},
   "outputs": [],
   "source": [
    "huck_finn_url = \"https://www.inferentialthinking.com/data/huck_finn.txt\"\n",
    "huck_finn_text = read_url(huck_finn_url)\n",
    "huck_finn_chapters = huck_finn_text.split(\"CHAPTER \")[44:]\n"
   ]
  },
  {
   "cell_type": "code",
   "execution_count": null,
   "id": "10ea0816",
   "metadata": {},
   "outputs": [],
   "source": [
    "little_women_url = \"https://www.inferentialthinking.com/data/little_women.txt\"\n",
    "little_women_text = read_url(little_women_url)\n",
    "little_women_chapters = little_women_text.split(\"CHAPTER \")[1:]\n"
   ]
  },
  {
   "cell_type": "code",
   "execution_count": null,
   "id": "9372820f",
   "metadata": {},
   "outputs": [],
   "source": [
    "huck_finn_chapters[4]"
   ]
  },
  {
   "cell_type": "code",
   "execution_count": null,
   "id": "e88fa2a1",
   "metadata": {},
   "outputs": [],
   "source": [
    "little_women_chapters[1]"
   ]
  },
  {
   "cell_type": "markdown",
   "id": "d5954a0f",
   "metadata": {},
   "source": [
    "## Working with Tables\n",
    "\n",
    "A lot of data science is about transforming data often to produce tables that we can more easily analyze. In this class you will use the Berkeley datascience library to manipulate and data."
   ]
  },
  {
   "cell_type": "code",
   "execution_count": null,
   "id": "5d243915",
   "metadata": {},
   "outputs": [],
   "source": [
    "from datascience import Table\n"
   ]
  },
  {
   "cell_type": "code",
   "execution_count": null,
   "id": "14e6c049",
   "metadata": {},
   "outputs": [],
   "source": [
    "Table().with_column(\"Chapters\", huck_finn_chapters)"
   ]
  },
  {
   "cell_type": "code",
   "execution_count": null,
   "id": "8194c498",
   "metadata": {},
   "outputs": [],
   "source": [
    "import numpy as np"
   ]
  },
  {
   "cell_type": "code",
   "execution_count": null,
   "id": "968b2045",
   "metadata": {},
   "outputs": [],
   "source": [
    "np.char.count(huck_finn_chapters, \"Tom\")"
   ]
  },
  {
   "cell_type": "code",
   "execution_count": null,
   "id": "7ebaee1e",
   "metadata": {},
   "outputs": [],
   "source": [
    "np.char.count(huck_finn_chapters, 'Jim')"
   ]
  },
  {
   "cell_type": "code",
   "execution_count": null,
   "id": "46925e57",
   "metadata": {},
   "outputs": [],
   "source": [
    "counts = Table().with_columns(\n",
    "    [\n",
    "        \"Tom\",\n",
    "        np.char.count(huck_finn_chapters, \"Tom\"),\n",
    "        \"Jim\",\n",
    "        np.char.count(huck_finn_chapters, \"Jim\"),\n",
    "        \"Huck\",\n",
    "        np.char.count(huck_finn_chapters, \"Huck\"),\n",
    "    ]\n",
    ")\n",
    "counts\n"
   ]
  },
  {
   "cell_type": "markdown",
   "id": "ff983295",
   "metadata": {},
   "source": [
    "## We will Learn to Visualize Data\n",
    "\n",
    "Plot the cumulative counts: How many times in Chapter 1, how many times in Chapters 1 and 2, and so on.\n"
   ]
  },
  {
   "cell_type": "code",
   "execution_count": null,
   "id": "4ecd041d",
   "metadata": {},
   "outputs": [],
   "source": [
    "# 将Table中一列的第N项数值转换为前N项和\n",
    "def cumulative_sum(table: Table) -> Table:\n",
    "    \"\"\"\n",
    "    Returns a new Table with each column replaced by its cumulative sum.\n",
    "    \"\"\"\n",
    "    labels = table.labels\n",
    "    columns = [np.cumsum(np.array(col)) for col in table.columns]\n",
    "    return Table().with_columns(list(sum(zip(labels, columns), ())))"
   ]
  },
  {
   "cell_type": "code",
   "execution_count": null,
   "id": "81e401d2",
   "metadata": {},
   "outputs": [],
   "source": [
    "%matplotlib inline\n",
    "import matplotlib.pyplot as plt\n",
    "\n",
    "plt.style.use(\"fivethirtyeight\")\n",
    "cum_counts = cumulative_sum(counts).with_column(\"Chapter\", np.arange(1, 44, 1))\n",
    "cum_counts.plot(column_for_xticks=\"Chapter\")\n",
    "plt.title(\"Cumulative Number of Times Name Appears\");\n"
   ]
  },
  {
   "cell_type": "code",
   "execution_count": null,
   "id": "e7f48864",
   "metadata": {},
   "outputs": [],
   "source": [
    "# The chapters of Little Women\n",
    "Table().with_column(\"Chapters\", little_women_chapters)\n"
   ]
  },
  {
   "cell_type": "code",
   "execution_count": null,
   "id": "20af0aac",
   "metadata": {},
   "outputs": [],
   "source": [
    "# Counts of names in the chapters of Little Women\n",
    "names = [\"Amy\", \"Beth\", \"Jo\", \"Laurie\", \"Meg\"]\n",
    "mentions = {name: np.char.count(little_women_chapters, name) for name in names}\n",
    "counts = Table().with_columns(\n",
    "    [\n",
    "        \"Amy\",\n",
    "        mentions[\"Amy\"],\n",
    "        \"Beth\",\n",
    "        mentions[\"Beth\"],\n",
    "        \"Jo\",\n",
    "        mentions[\"Jo\"],\n",
    "        \"Laurie\",\n",
    "        mentions[\"Laurie\"],\n",
    "        \"Meg\",\n",
    "        mentions[\"Meg\"],\n",
    "    ]\n",
    ")\n"
   ]
  },
  {
   "cell_type": "code",
   "execution_count": null,
   "id": "ee3926c5",
   "metadata": {},
   "outputs": [],
   "source": [
    "# Plot the cumulative counts\n",
    "Table.static_plots()\n",
    "cum_counts = cumulative_sum(counts).with_column(\"Chapter\", np.arange(1, 48, 1))\n",
    "cum_counts.plot(column_for_xticks=5)\n",
    "plt.title(\"Cumulative Number of Times Name Appears\");\n"
   ]
  },
  {
   "cell_type": "code",
   "execution_count": null,
   "id": "7661a26b",
   "metadata": {},
   "outputs": [],
   "source": [
    "# Plot the cumulative counts\n",
    "Table.interactive_plots()\n",
    "cum_counts = cumulative_sum(counts).with_column(\"Chapter\", np.arange(1, 48, 1))\n",
    "cum_counts.plot(column_for_xticks=5)\n"
   ]
  },
  {
   "cell_type": "markdown",
   "id": "2af765a6",
   "metadata": {},
   "source": [
    "## Examining Length\n",
    "\n",
    "How long are the books? How long are sentences?"
   ]
  },
  {
   "cell_type": "code",
   "execution_count": null,
   "id": "d64303bd",
   "metadata": {},
   "outputs": [],
   "source": [
    "len(read_url(huck_finn_url))"
   ]
  },
  {
   "cell_type": "code",
   "execution_count": null,
   "id": "99a77859",
   "metadata": {},
   "outputs": [],
   "source": [
    "# In each chapter, count the number of all characters;\n",
    "# call this the \"length\" of the chapter.\n",
    "# Also count the number of periods.\n",
    "\n",
    "length_hf = Table().with_columns(\n",
    "    [\n",
    "        \"Length\",\n",
    "        [len(s) for s in huck_finn_chapters],\n",
    "        \"Periods\",\n",
    "        np.char.count(huck_finn_chapters, \".\"),\n",
    "    ]\n",
    ")\n",
    "length_lw = Table().with_columns(\n",
    "    [\n",
    "        \"Length\",\n",
    "        [len(s) for s in little_women_chapters],\n",
    "        \"Periods\",\n",
    "        np.char.count(little_women_chapters, \".\"),\n",
    "    ]\n",
    ")\n"
   ]
  },
  {
   "cell_type": "code",
   "execution_count": null,
   "id": "e5ee695c",
   "metadata": {},
   "outputs": [],
   "source": [
    "# The counts for Huckleberry Finn\n",
    "length_hf\n"
   ]
  },
  {
   "cell_type": "code",
   "execution_count": null,
   "id": "fc16a426",
   "metadata": {},
   "outputs": [],
   "source": [
    "# The counts for Little Women\n",
    "length_lw\n"
   ]
  },
  {
   "cell_type": "code",
   "execution_count": null,
   "id": "342ce930",
   "metadata": {},
   "outputs": [],
   "source": [
    "Table.static_plots()\n",
    "plt.figure(figsize=(10, 10))\n",
    "plt.scatter(length_hf[1], length_hf[0], color=\"darkblue\")\n",
    "plt.scatter(length_lw[1], length_lw[0], color=\"gold\")\n",
    "plt.xlabel(\"Number of periods in chapter\")\n",
    "plt.ylabel(\"Number of characters in chapter\");\n"
   ]
  },
  {
   "cell_type": "markdown",
   "id": "2ebb1b6d",
   "metadata": {},
   "source": [
    "## Examining distributions"
   ]
  },
  {
   "cell_type": "code",
   "execution_count": null,
   "id": "c7d74178",
   "metadata": {},
   "outputs": [],
   "source": [
    "Table.static_plots()\n",
    "length_hf.with_columns(\n",
    "    \"Sentence Length\", length_hf[\"Length\"] / length_hf[\"Periods\"]\n",
    ").hist(\"Sentence Length\")\n"
   ]
  },
  {
   "cell_type": "code",
   "execution_count": null,
   "id": "96f4035f",
   "metadata": {},
   "outputs": [],
   "source": [
    "Table.static_plots()\n",
    "length_lw.with_columns(\n",
    "    \"Sentence Length\", length_lw[\"Length\"] / length_lw[\"Periods\"]\n",
    ").hist(\"Sentence Length\")\n"
   ]
  },
  {
   "cell_type": "code",
   "execution_count": null,
   "id": "00eef020",
   "metadata": {},
   "outputs": [],
   "source": []
  }
 ],
 "metadata": {
  "kernelspec": {
   "display_name": ".venv",
   "language": "python",
   "name": "python3"
  },
  "language_info": {
   "codemirror_mode": {
    "name": "ipython",
    "version": 3
   },
   "file_extension": ".py",
   "mimetype": "text/x-python",
   "name": "python",
   "nbconvert_exporter": "python",
   "pygments_lexer": "ipython3",
   "version": "3.11.13"
  }
 },
 "nbformat": 4,
 "nbformat_minor": 5
}
